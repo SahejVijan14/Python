{
 "cells": [
  {
   "cell_type": "markdown",
   "metadata": {},
   "source": [
    "        Data Science: A Programming Approach\n",
    "        Mahyar S Vaghefi\n",
    "        University of Texas Arlington"
   ]
  },
  {
   "cell_type": "markdown",
   "metadata": {},
   "source": [
    "<h1 align='center' style=\"color: blue;\">Assignment #1</h1>"
   ]
  },
  {
   "cell_type": "markdown",
   "metadata": {},
   "source": [
    "<p><b>Question #1</b>: \n",
    "    \n",
    "<ol>\n",
    "    <li> Write a small program that asks for an integer number from the user and print all the prime numbers (2,3,5,7,etc) less than the inputed number.</li>\n",
    "    <li> How long it takes for your program to print the prime numbers less than 100. (Use magic functions) </li>\n",
    "    </p>  "
   ]
  },
  {
   "cell_type": "code",
   "execution_count": 1,
   "metadata": {},
   "outputs": [
    {
     "name": "stdout",
     "output_type": "stream",
     "text": [
      "enter a number:55\n",
      " 2   3   5   7   11   13   17   19   23   29   31   37   41   43   47   53  "
     ]
    }
   ],
   "source": [
    "# Write your answer here (part1)\n",
    "x=int(input(\"enter a number:\"))\n",
    "for Number in range (1,x):\n",
    "    count = 0\n",
    "    for i in range(2, (Number//2 + 1)):\n",
    "        if(Number % i == 0):\n",
    "            count = count + 1\n",
    "            break\n",
    "\n",
    "    if (count == 0 and Number != 1):\n",
    "        print(\" %d\" %Number, end = '  ')"
   ]
  },
  {
   "cell_type": "code",
   "execution_count": 2,
   "metadata": {},
   "outputs": [
    {
     "name": "stdout",
     "output_type": "stream",
     "text": [
      " 2   3   5   7   11   13   17   19   23   29   31   37   41   43   47   53   59   61   67   71   73   79   83   89   97  \n",
      "\n",
      "627 µs ± 0 ns per loop (mean ± std. dev. of 1 run, 1 loop each)\n"
     ]
    }
   ],
   "source": [
    "%%timeit -n1 -r1\n",
    "    for Number in range (2, 101):\n",
    "        \n",
    "        isPrime = True\n",
    "        for i in range(2, Number):\n",
    "            if(Number % i == 0):\n",
    "                isPrime = False\n",
    "                break\n",
    "            \n",
    "        if(isPrime):\n",
    "            print(\" %d\" %Number, end = '  ')\n",
    "            \n",
    "    print(\"\\n\")"
   ]
  },
  {
   "cell_type": "markdown",
   "metadata": {},
   "source": [
    "<p><b>Question #2</b>: Write a small program that asks for two sentences from the user and returns a set of common words between two sentences.</p>\n",
    "<p><u>Here is an example:</u><br>\n",
    "Please input your first sentence: Hello, this is my first sentence<br>\n",
    "Please input your second sentence: Ok, here is my second sentence<br>\n",
    "    \n",
    "{'is', 'my', 'sentence'}\n",
    "</p>"
   ]
  },
  {
   "cell_type": "code",
   "execution_count": 3,
   "metadata": {},
   "outputs": [
    {
     "name": "stdout",
     "output_type": "stream",
     "text": [
      "enter your first sentence :ha ja ka ia\n",
      "enter your second sentence :ha ia kak jaja\n",
      "{'ia', 'ha'}\n"
     ]
    }
   ],
   "source": [
    "# Write your answer here\n",
    "sentence1 = input(\"enter your first sentence :\")\n",
    "sentence2 = input(\"enter your second sentence :\")\n",
    "\n",
    "sentence1_words = sentence1.split()\n",
    "sentence2_words = sentence2.split()\n",
    "\n",
    "common = set(sentence1_words).intersection( set(sentence2_words) )\n",
    "unique = set(sentence1_words).symmetric_difference( set(sentence2_words) )\n",
    "\n",
    "print (common)\n"
   ]
  },
  {
   "cell_type": "markdown",
   "metadata": {},
   "source": [
    "<p><b>Question #3</b>: The following dictionary provides information about employees of a company. The keys are tuples containing individuals' name, gender and birth year. The values are individiuals' salary. Write a code that removes female employees or those with birth year before 1987 from the dictionary.\n",
    "\n",
    "employee_dict = {<br>\n",
    "    ('John', 'male', 1986) : 130000,<br>\n",
    "    ('Jane', 'female', 1983) : 110000,<br>\n",
    "    ('Mona', 'female', 1989): 135000,<br>\n",
    "    ('Emma', 'female', 1987): 88000,<br>\n",
    "    ('Mark', 'male', 1983): 109000,<br>\n",
    "    ('Alex', 'male', 1991): 117000,<br>\n",
    "    ('Hanna', 'female', 1980): 123000<br>\n",
    "}<br>\n",
    "</p>"
   ]
  },
  {
   "cell_type": "code",
   "execution_count": 4,
   "metadata": {},
   "outputs": [
    {
     "data": {
      "text/plain": [
       "{('Alex', 'male', 1991): 117000}"
      ]
     },
     "execution_count": 4,
     "metadata": {},
     "output_type": "execute_result"
    }
   ],
   "source": [
    "# Write your answer here\n",
    "employee_dict = {\n",
    "('John', 'male', 1986) : 130000,\n",
    "('Jane', 'female', 1983) : 110000,\n",
    "('Mona', 'female', 1989): 135000,\n",
    "('Emma', 'female', 1987): 88000,\n",
    "('Mark', 'male', 1983): 109000,\n",
    "('Alex', 'male', 1991): 117000,\n",
    "('Hanna', 'female', 1980): 123000\n",
    "}\n",
    "\n",
    "to_remove=[]\n",
    "for key,value in employee_dict.items():\n",
    "    if key[2]<1987 or  key[1]=='female':\n",
    "        to_remove.append(key)\n",
    "        \n",
    "for key in to_remove:\n",
    "     del employee_dict[key]\n",
    "\n",
    "employee_dict"
   ]
  },
  {
   "cell_type": "markdown",
   "metadata": {},
   "source": [
    "<p><b>Question #4</b>:<br> \n",
    "<ol>\n",
    "<li> Create a 3x5 random matrix using normal distribution with mean = 2 and std = .5 (matrix A)</li>\n",
    "<li> Create another 5x3 matrix in the following format: (matrix B) \n",
    "<br>\n",
    "<br>\n",
    "<div>\n",
    "<table style=\"width:200px; border:1px solid black\">\n",
    "<tr>\n",
    "    <td style=\"text-align:center; border:1px solid black\">1</td>\n",
    "    <td style=\"text-align:center; border:1px solid black\">0</td>\n",
    "    <td style=\"text-align:center; border:1px solid black\">2</td>\n",
    "</tr>\n",
    "<tr>\n",
    "    <td style=\"text-align:center; border:1px solid black\">3</td>\n",
    "    <td style=\"text-align:center;border:1px solid black\">4</td>\n",
    "    <td style=\"text-align:center;border:1px solid black\">1</td>\n",
    "</tr>\n",
    "<tr>\n",
    "    <td style=\"text-align:center; border:1px solid black\">-1</td>\n",
    "    <td style=\"text-align:center; border:1px solid black\">2</td>\n",
    "    <td style=\"text-align:center;border:1px solid black\">-3</td>\n",
    "</tr>\n",
    "<tr>\n",
    "    <td style=\"text-align:center; border:1px solid black\">5</td>\n",
    "    <td style=\"text-align:center; border:1px solid black\">4</td>\n",
    "    <td style=\"text-align:center; border:1px solid black\">0</td>\n",
    "</tr>\n",
    "<tr>\n",
    "    <td style=\"text-align:center;border:1px solid black\">0</td>\n",
    "    <td style=\"text-align:center;border:1px solid black\">0</td>\n",
    "    <td style=\"text-align:center;border:1px solid black\">2</td>\n",
    "</tr>\n",
    "</table>\n",
    "<div></li>\n",
    "   \n",
    "<li> Find Dot Product of matrix A and B and put it in matrix C.</li>\n",
    "<li> Find the column wise sum of the matrix C.</li> \n",
    "</p>\n"
   ]
  },
  {
   "cell_type": "code",
   "execution_count": 5,
   "metadata": {},
   "outputs": [
    {
     "name": "stdout",
     "output_type": "stream",
     "text": [
      "[[1.56438417 2.8461291  1.34651489 1.2906314  1.37444341]\n",
      " [2.58723184 1.5432191  2.20074333 1.75588834 2.41794141]\n",
      " [2.94258257 1.50494515 1.90311524 2.00368983 2.3670222 ]]\n"
     ]
    }
   ],
   "source": [
    "# Write your answer here (part1)\n",
    "import numpy as np\n",
    "Matrix_A = np.random.normal(loc = 2, scale = .5, size = (3,5))\n",
    "print(Matrix_A)"
   ]
  },
  {
   "cell_type": "code",
   "execution_count": 6,
   "metadata": {},
   "outputs": [
    {
     "name": "stdout",
     "output_type": "stream",
     "text": [
      "[[ 1  0  2]\n",
      " [ 3  4  1]\n",
      " [-1  2  3]\n",
      " [ 5  4  0]\n",
      " [ 0  0  2]]\n"
     ]
    }
   ],
   "source": [
    "# Write your answer here (part2)\n",
    "import numpy as np\n",
    "Matrix_B = np.array([[1, 0, 2],[3, 4, 1],[-1, 2, 3],[5,  4, 0],[0,  0, 2]])    \n",
    "print(Matrix_B)"
   ]
  },
  {
   "cell_type": "code",
   "execution_count": 7,
   "metadata": {},
   "outputs": [
    {
     "name": "stdout",
     "output_type": "stream",
     "text": [
      "[[15.20941359 19.24007179 12.76332892]\n",
      " [13.79558749 17.59791639 18.15579557]\n",
      " [15.57275194 17.8407704  17.8335004 ]]\n"
     ]
    }
   ],
   "source": [
    "# Write your answer here (part3)\n",
    "Matrix_C=np.dot(Matrix_A,Matrix_B)\n",
    "print(Matrix_C)\n"
   ]
  },
  {
   "cell_type": "code",
   "execution_count": 8,
   "metadata": {},
   "outputs": [
    {
     "name": "stdout",
     "output_type": "stream",
     "text": [
      "Column-wise sum:  [44.57775302 54.67875858 48.75262488]\n"
     ]
    }
   ],
   "source": [
    "# Write your answer here (part4)\n",
    "print(\"Column-wise sum: \", Matrix_C.sum(axis = 0))\n"
   ]
  },
  {
   "cell_type": "markdown",
   "metadata": {},
   "source": [
    "<p><b>Question #5</b>:<br> \n",
    "<ol> \n",
    "    <li>Create a random 5x5 matrix using discrete uniform integers between [0, 100) (matrix A) </li>\n",
    "    <li>Use Boolean Indexing (Filtering) to subtract 15 from all the values over 60 in matrix A </li>\n",
    "</ol> \n",
    "</p>"
   ]
  },
  {
   "cell_type": "code",
   "execution_count": 9,
   "metadata": {},
   "outputs": [
    {
     "name": "stdout",
     "output_type": "stream",
     "text": [
      "[[58  6  6 30 34]\n",
      " [56 72 18 76 12]\n",
      " [ 8 52 38 36 42]\n",
      " [86 90 96 72 98]\n",
      " [38 48 58 42 66]]\n"
     ]
    }
   ],
   "source": [
    "# Write your answer here (part1)\n",
    "import numpy as np\n",
    "rows  = 5\n",
    "cols = 5\n",
    "low = 0\n",
    "high = 100\n",
    "step = 2\n",
    "\n",
    "matrix = np.random.choice([x for x in range(low,high,step)],rows*cols)\n",
    "matrix.resize(rows,cols)\n",
    "\n",
    "print(matrix)"
   ]
  },
  {
   "cell_type": "code",
   "execution_count": 10,
   "metadata": {},
   "outputs": [
    {
     "name": "stdout",
     "output_type": "stream",
     "text": [
      "[[58  6  6 30 34]\n",
      " [56 57 18 61 12]\n",
      " [ 8 52 38 36 42]\n",
      " [71 75 81 57 83]\n",
      " [38 48 58 42 51]]\n"
     ]
    }
   ],
   "source": [
    "# Write your answer here (part2)\n",
    "import numpy as np\n",
    "lol = np.where(matrix >60, matrix-15, matrix)\n",
    "print(lol)"
   ]
  },
  {
   "cell_type": "markdown",
   "metadata": {},
   "source": [
    "<p><b>Question #6</b>:<br> \n",
    "<ol>\n",
    "<li> Use pandas read_csv( ) function to read the BlackFriday.csv file - You can find the csv file in Blackboard. (<b>Note:</b> This is a dataset available in Kaggle. It is a dataset of 550000 observations about the black Friday in a retail store, it contains different kinds of variables either numerical or categorical. It contains missing values.)</li>\n",
    "<li> Find the number of male and female in this dataset </li>\n",
    "<li> Find the average purchase amount by individuals' gender </li>\n",
    "<li> Find the average purchase amount by age and gender (<b>Hint:</b> you need to use group by with multiple item) </li>\n",
    "<li> Find the maximum purchase amount by age and city category and sort the result by the maximum purchase amount (ascending) </li>\n",
    "<li> Find the minimum purchase amount by gender and marital status and sort the result by the maximum purchase amount (descending) </li>\n",
    "</p>"
   ]
  },
  {
   "cell_type": "code",
   "execution_count": 11,
   "metadata": {},
   "outputs": [],
   "source": [
    "# Write your answer here (part1)\n",
    "import pandas as pd\n",
    "data = pd.read_csv(r'C:\\Users\\sahej_surface\\Downloads\\Data Science\\BlackFriday.csv')\n",
    "data_dataframe=pd.DataFrame(data)"
   ]
  },
  {
   "cell_type": "code",
   "execution_count": 12,
   "metadata": {},
   "outputs": [
    {
     "name": "stdout",
     "output_type": "stream",
     "text": [
      "number of Males =  405380\n",
      "number of Females =  132197\n"
     ]
    }
   ],
   "source": [
    "# Write your answer here (part2)\n",
    "Gender=data_dataframe.Gender\n",
    "\n",
    "females=0\n",
    "males=0\n",
    "for i in Gender:\n",
    "    if i == \"M\":\n",
    "        males += 1\n",
    "    else:\n",
    "        females += 1\n",
    "print(\"number of Males = \",males)\n",
    "print(\"number of Females = \",females)"
   ]
  },
  {
   "cell_type": "code",
   "execution_count": 13,
   "metadata": {},
   "outputs": [
    {
     "name": "stdout",
     "output_type": "stream",
     "text": [
      "Average purchase buy males =  9504.771712960679\n",
      "Average purchase buy males =  8809.761348593387\n"
     ]
    }
   ],
   "source": [
    "# Write your answer here (part3)avg_purchase=data_dataframe.Purchase\n",
    "\n",
    "avg_purchase_male=data_dataframe[\"Purchase\"][data_dataframe[\"Gender\"]==\"M\"].mean()\n",
    "avg_purchase_female=data_dataframe[\"Purchase\"][data_dataframe[\"Gender\"]==\"F\"].mean()\n",
    "\n",
    "print(\"Average purchase buy males = \", avg_purchase_male)\n",
    "\n",
    "print(\"Average purchase buy males = \",avg_purchase_female)"
   ]
  },
  {
   "cell_type": "code",
   "execution_count": 14,
   "metadata": {},
   "outputs": [
    {
     "name": "stdout",
     "output_type": "stream",
     "text": [
      "   Gender    Age     Purchase\n",
      "0       F   0-17  8444.703210\n",
      "1       F  18-25  8405.430852\n",
      "2       F  26-35  8791.798654\n",
      "3       F  36-45  9046.573808\n",
      "4       F  46-50  8929.448740\n",
      "5       F  51-55  9131.451837\n",
      "6       F    55+  9119.577196\n",
      "7       M   0-17  9312.322227\n",
      "8       M  18-25  9506.501081\n",
      "9       M  26-35  9470.621052\n",
      "10      M  36-45  9517.126321\n",
      "11      M  46-50  9429.151563\n",
      "12      M  51-55  9789.020476\n",
      "13      M    55+  9557.058094\n"
     ]
    }
   ],
   "source": [
    "# Write your answer here (part4)\n",
    "avg_purchase_male_age = data_dataframe.groupby([\"Gender\",\"Age\"])[\"Purchase\"].mean().reset_index()\n",
    "\n",
    "print(avg_purchase_male_age)\n"
   ]
  },
  {
   "cell_type": "code",
   "execution_count": 15,
   "metadata": {},
   "outputs": [
    {
     "name": "stdout",
     "output_type": "stream",
     "text": [
      "   City_Category    Age  Purchase\n",
      "0              A   0-17     23847\n",
      "1              A  18-25     23958\n",
      "2              A  26-35     23961\n",
      "3              A  36-45     23949\n",
      "4              A  46-50     23912\n",
      "5              A  51-55     23960\n",
      "6              A    55+     23913\n",
      "7              B   0-17     23953\n",
      "8              B  18-25     23958\n",
      "9              B  26-35     23955\n",
      "10             B  36-45     23960\n",
      "11             B  46-50     23960\n",
      "12             B  51-55     23959\n",
      "13             B    55+     23954\n",
      "14             C   0-17     23955\n",
      "15             C  18-25     23952\n",
      "16             C  26-35     23961\n",
      "17             C  36-45     23949\n",
      "18             C  46-50     23919\n",
      "19             C  51-55     23958\n",
      "20             C    55+     23960\n"
     ]
    }
   ],
   "source": [
    "# Write your answer here (part5)\n",
    "avg_purchase_max_city = data_dataframe.groupby([\"City_Category\",\"Age\"])[\"Purchase\"].max().reset_index()\n",
    "print(avg_purchase_max_city)"
   ]
  },
  {
   "cell_type": "code",
   "execution_count": 16,
   "metadata": {},
   "outputs": [
    {
     "name": "stdout",
     "output_type": "stream",
     "text": [
      "  Gender  Marital_Status  Purchase\n",
      "0      F               0       185\n",
      "1      F               1       186\n",
      "2      M               0       185\n",
      "3      M               1       187\n"
     ]
    }
   ],
   "source": [
    "# Write your answer here (part6)\n",
    "avg_purchase_min_MS = data_dataframe.groupby([\"Gender\",\"Marital_Status\"])[\"Purchase\"].min().reset_index()\n",
    "print(avg_purchase_min_MS)"
   ]
  },
  {
   "cell_type": "markdown",
   "metadata": {},
   "source": [
    "<p><b>Question #7</b>:<br> \n",
    "<ol>\n",
    "    <li>Consider the following two tables. Use lists, dictionaries and/or other Pandas data structure to create a separate DataFrame for each table.\n",
    "    <div><br><br>\n",
    "        <table style='width:400px; background-color:rgba(255,255,255,1)'>\n",
    "            <tr style=\"background-color:rgba(255,255,255,1)\">\n",
    "                <th style='text-align:center' colspan='2'>product</th>\n",
    "                <th></th>\n",
    "                <th style='text-align:center' colspan='3'>availability</th>\n",
    "            </tr>\n",
    "            <tr style=\"background-color:rgba(255,255,255,1)\">\n",
    "                <td style='border:1px solid black'>product_id</td>\n",
    "                <td style='border:1px solid black'>price</td>\n",
    "                <td>&nbsp;</td>\n",
    "                <td style='border:1px solid black'>product_id</td>\n",
    "                <td style='border:1px solid black'>City</td>\n",
    "                <td style='border:1px solid black'>Quantity</td>\n",
    "            </tr>\n",
    "            <tr style=\"background-color:rgba(255,255,255,1)\">\n",
    "                <td style='border:1px solid black'>A11</td>\n",
    "                <td style='border:1px solid black'>22</td>\n",
    "                <td>&nbsp;</td>\n",
    "                <td style='border:1px solid black'>A11</td>\n",
    "                <td style='border:1px solid black'>A</td>\n",
    "                <td style='border:1px solid black'>21</td>\n",
    "            </tr>\n",
    "            <tr style=\"background-color:rgba(255,255,255,1)\">\n",
    "                <td style='border:1px solid black'>A12</td>\n",
    "                <td style='border:1px solid black'>23</td>\n",
    "                <td>&nbsp;</td>\n",
    "                <td style='border:1px solid black'>A11</td>\n",
    "                <td style='border:1px solid black'>B</td>\n",
    "                <td style='border:1px solid black'>18</td>\n",
    "            </tr>\n",
    "            <tr style=\"background-color:rgba(255,255,255,1)\">\n",
    "                <td style='border:1px solid black'>A13</td>\n",
    "                <td style='border:1px solid black'>14</td>\n",
    "                <td>&nbsp;</td>\n",
    "                <td style='border:1px solid black'>A11</td>\n",
    "                <td style='border:1px solid black'>C</td>\n",
    "                <td style='border:1px solid black'>17</td>\n",
    "            </tr>\n",
    "            <tr style=\"background-color:rgba(255,255,255,1)\">\n",
    "                <td style='border:1px solid black'>A14</td>\n",
    "                <td style='border:1px solid black'>30</td>\n",
    "                <td>&nbsp;</td>\n",
    "                <td style='border:1px solid black'>A12</td>\n",
    "                <td style='border:1px solid black'>B</td>\n",
    "                <td style='border:1px solid black'>6</td>\n",
    "            </tr>\n",
    "            <tr style=\"background-color:rgba(255,255,255,1)\">\n",
    "                <td>&nbsp;</td>\n",
    "                <td>&nbsp;</td>\n",
    "                <td>&nbsp;</td>\n",
    "                <td style='border:1px solid black'>A12</td>\n",
    "                <td style='border:1px solid black'>C</td>\n",
    "                <td style='border:1px solid black'>2</td>\n",
    "            </tr>\n",
    "            <tr style=\"background-color:rgba(255,255,255,1)\">\n",
    "                <td>&nbsp;</td>\n",
    "                <td>&nbsp;</td>\n",
    "                <td>&nbsp;</td>\n",
    "                <td style='border:1px solid black'>A14</td>\n",
    "                <td style='border:1px solid black'>A</td>\n",
    "                <td style='border:1px solid black'>8</td>\n",
    "            </tr>\n",
    "            <tr style=\"background-color:rgba(255,255,255,1)\">\n",
    "                <td>&nbsp;</td>\n",
    "                <td>&nbsp;</td>\n",
    "                <td>&nbsp;</td>\n",
    "                <td style='border:1px solid black'>A14</td>\n",
    "                <td style='border:1px solid black'>B</td>\n",
    "                <td style='border:1px solid black'>10</td>\n",
    "            </tr>\n",
    "            <tr style=\"background-color:rgba(255,255,255,1)\">\n",
    "                <td>&nbsp;</td>\n",
    "                <td>&nbsp;</td>\n",
    "                <td>&nbsp;</td>\n",
    "                <td style='border:1px solid black'>A14</td>\n",
    "                <td style='border:1px solid black'>D</td>\n",
    "                <td style='border:1px solid black'>7</td>\n",
    "            </tr>\n",
    "        <table>\n",
    "    </div>\n",
    "    </li>\n",
    "        <li>Merge two tables (use inner join)</li>\n",
    "        <li>Merge two tables (use outer join)</li>\n",
    "</ol>"
   ]
  },
  {
   "cell_type": "code",
   "execution_count": 17,
   "metadata": {},
   "outputs": [
    {
     "name": "stdout",
     "output_type": "stream",
     "text": [
      "  product_id price\n",
      "0        A11    22\n",
      "1        A12    23\n",
      "2        A13    14\n",
      "3        A14    30\n",
      "  product_id City Quantity\n",
      "0        A11    A       21\n",
      "1        A11    B       18\n",
      "2        A11    C       17\n",
      "3        A12    B        6\n",
      "4        A12    C        2\n",
      "5        A13    A        8\n",
      "6        A14    B       10\n",
      "7        A14    D        7\n"
     ]
    }
   ],
   "source": [
    "# Write your answer here (part1)\n",
    "import pandas as pd\n",
    "df1 = pd.DataFrame({'product_id':['A11','A12','A13','A14'],\n",
    "                    'price':['22','23','14','30']})\n",
    "df2 = pd.DataFrame({'product_id':['A11','A11','A11','A12','A12','A13','A14','A14',],\n",
    "                    'City':['A','B','C','B','C','A','B','D'],\n",
    "                    'Quantity':['21','18','17','6','2','8','10','7']})\n",
    "print(df1)\n",
    "print(df2)"
   ]
  },
  {
   "cell_type": "code",
   "execution_count": 18,
   "metadata": {},
   "outputs": [
    {
     "data": {
      "text/html": [
       "<div>\n",
       "<style scoped>\n",
       "    .dataframe tbody tr th:only-of-type {\n",
       "        vertical-align: middle;\n",
       "    }\n",
       "\n",
       "    .dataframe tbody tr th {\n",
       "        vertical-align: top;\n",
       "    }\n",
       "\n",
       "    .dataframe thead th {\n",
       "        text-align: right;\n",
       "    }\n",
       "</style>\n",
       "<table border=\"1\" class=\"dataframe\">\n",
       "  <thead>\n",
       "    <tr style=\"text-align: right;\">\n",
       "      <th></th>\n",
       "      <th>product_id</th>\n",
       "      <th>price</th>\n",
       "      <th>City</th>\n",
       "      <th>Quantity</th>\n",
       "    </tr>\n",
       "  </thead>\n",
       "  <tbody>\n",
       "    <tr>\n",
       "      <th>0</th>\n",
       "      <td>A11</td>\n",
       "      <td>22</td>\n",
       "      <td>A</td>\n",
       "      <td>21</td>\n",
       "    </tr>\n",
       "    <tr>\n",
       "      <th>1</th>\n",
       "      <td>A11</td>\n",
       "      <td>22</td>\n",
       "      <td>B</td>\n",
       "      <td>18</td>\n",
       "    </tr>\n",
       "    <tr>\n",
       "      <th>2</th>\n",
       "      <td>A11</td>\n",
       "      <td>22</td>\n",
       "      <td>C</td>\n",
       "      <td>17</td>\n",
       "    </tr>\n",
       "    <tr>\n",
       "      <th>3</th>\n",
       "      <td>A12</td>\n",
       "      <td>23</td>\n",
       "      <td>B</td>\n",
       "      <td>6</td>\n",
       "    </tr>\n",
       "    <tr>\n",
       "      <th>4</th>\n",
       "      <td>A12</td>\n",
       "      <td>23</td>\n",
       "      <td>C</td>\n",
       "      <td>2</td>\n",
       "    </tr>\n",
       "    <tr>\n",
       "      <th>5</th>\n",
       "      <td>A13</td>\n",
       "      <td>14</td>\n",
       "      <td>A</td>\n",
       "      <td>8</td>\n",
       "    </tr>\n",
       "    <tr>\n",
       "      <th>6</th>\n",
       "      <td>A14</td>\n",
       "      <td>30</td>\n",
       "      <td>B</td>\n",
       "      <td>10</td>\n",
       "    </tr>\n",
       "    <tr>\n",
       "      <th>7</th>\n",
       "      <td>A14</td>\n",
       "      <td>30</td>\n",
       "      <td>D</td>\n",
       "      <td>7</td>\n",
       "    </tr>\n",
       "  </tbody>\n",
       "</table>\n",
       "</div>"
      ],
      "text/plain": [
       "  product_id price City Quantity\n",
       "0        A11    22    A       21\n",
       "1        A11    22    B       18\n",
       "2        A11    22    C       17\n",
       "3        A12    23    B        6\n",
       "4        A12    23    C        2\n",
       "5        A13    14    A        8\n",
       "6        A14    30    B       10\n",
       "7        A14    30    D        7"
      ]
     },
     "execution_count": 18,
     "metadata": {},
     "output_type": "execute_result"
    }
   ],
   "source": [
    "# Write your answer here (part2)\n",
    "df3=pd.merge(df1,df2)\n",
    "pd.merge(df1,df2 ,how='inner')"
   ]
  },
  {
   "cell_type": "code",
   "execution_count": 19,
   "metadata": {},
   "outputs": [
    {
     "data": {
      "text/html": [
       "<div>\n",
       "<style scoped>\n",
       "    .dataframe tbody tr th:only-of-type {\n",
       "        vertical-align: middle;\n",
       "    }\n",
       "\n",
       "    .dataframe tbody tr th {\n",
       "        vertical-align: top;\n",
       "    }\n",
       "\n",
       "    .dataframe thead th {\n",
       "        text-align: right;\n",
       "    }\n",
       "</style>\n",
       "<table border=\"1\" class=\"dataframe\">\n",
       "  <thead>\n",
       "    <tr style=\"text-align: right;\">\n",
       "      <th></th>\n",
       "      <th>product_id</th>\n",
       "      <th>price</th>\n",
       "      <th>City</th>\n",
       "      <th>Quantity</th>\n",
       "    </tr>\n",
       "  </thead>\n",
       "  <tbody>\n",
       "    <tr>\n",
       "      <th>0</th>\n",
       "      <td>A11</td>\n",
       "      <td>22</td>\n",
       "      <td>A</td>\n",
       "      <td>21</td>\n",
       "    </tr>\n",
       "    <tr>\n",
       "      <th>1</th>\n",
       "      <td>A11</td>\n",
       "      <td>22</td>\n",
       "      <td>B</td>\n",
       "      <td>18</td>\n",
       "    </tr>\n",
       "    <tr>\n",
       "      <th>2</th>\n",
       "      <td>A11</td>\n",
       "      <td>22</td>\n",
       "      <td>C</td>\n",
       "      <td>17</td>\n",
       "    </tr>\n",
       "    <tr>\n",
       "      <th>3</th>\n",
       "      <td>A12</td>\n",
       "      <td>23</td>\n",
       "      <td>B</td>\n",
       "      <td>6</td>\n",
       "    </tr>\n",
       "    <tr>\n",
       "      <th>4</th>\n",
       "      <td>A12</td>\n",
       "      <td>23</td>\n",
       "      <td>C</td>\n",
       "      <td>2</td>\n",
       "    </tr>\n",
       "    <tr>\n",
       "      <th>5</th>\n",
       "      <td>A13</td>\n",
       "      <td>14</td>\n",
       "      <td>A</td>\n",
       "      <td>8</td>\n",
       "    </tr>\n",
       "    <tr>\n",
       "      <th>6</th>\n",
       "      <td>A14</td>\n",
       "      <td>30</td>\n",
       "      <td>B</td>\n",
       "      <td>10</td>\n",
       "    </tr>\n",
       "    <tr>\n",
       "      <th>7</th>\n",
       "      <td>A14</td>\n",
       "      <td>30</td>\n",
       "      <td>D</td>\n",
       "      <td>7</td>\n",
       "    </tr>\n",
       "  </tbody>\n",
       "</table>\n",
       "</div>"
      ],
      "text/plain": [
       "  product_id price City Quantity\n",
       "0        A11    22    A       21\n",
       "1        A11    22    B       18\n",
       "2        A11    22    C       17\n",
       "3        A12    23    B        6\n",
       "4        A12    23    C        2\n",
       "5        A13    14    A        8\n",
       "6        A14    30    B       10\n",
       "7        A14    30    D        7"
      ]
     },
     "execution_count": 19,
     "metadata": {},
     "output_type": "execute_result"
    }
   ],
   "source": [
    "# Write your answer here (part3)\n",
    "\n",
    "df3=pd.merge(df1,df2)\n",
    "pd.merge(df1,df2 ,how='outer')"
   ]
  },
  {
   "cell_type": "markdown",
   "metadata": {},
   "source": [
    "<p><b>Output</b>: \n",
    "    <ul>\n",
    "        <li>You need to provide answers in the designated cell for each question (don't delete the existing comments in the cells).</li>\n",
    "        <li>You need to make sure that your final file contains both codes and results (don't clear the outputs).</li>\n",
    "        <li>Save your file in the .ipynb format (as it is right now).</li>\n",
    "        <li>Create a zip-folder and put your file in it.</li>\n",
    "        <li>Upload the zip-folder into Canvas (Assignment #1)</li>\n",
    "        <li>All the assignments should be submitted by <b>Mon Sep 30 at 7:00 PM</b>. No late submission will be accepted</li>\n",
    "        <li>I will not accept any submission by email or any other method, so make sure that you submit the file in a right place at a right time.</li>\n",
    "        </ul>\n",
    "        </p> "
   ]
  },
  {
   "cell_type": "code",
   "execution_count": null,
   "metadata": {},
   "outputs": [],
   "source": []
  }
 ],
 "metadata": {
  "kernelspec": {
   "display_name": "Python 3",
   "language": "python",
   "name": "python3"
  },
  "language_info": {
   "codemirror_mode": {
    "name": "ipython",
    "version": 3
   },
   "file_extension": ".py",
   "mimetype": "text/x-python",
   "name": "python",
   "nbconvert_exporter": "python",
   "pygments_lexer": "ipython3",
   "version": "3.7.3"
  }
 },
 "nbformat": 4,
 "nbformat_minor": 2
}
