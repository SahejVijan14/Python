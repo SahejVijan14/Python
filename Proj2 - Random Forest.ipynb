{
 "cells": [
  {
   "cell_type": "markdown",
   "metadata": {},
   "source": [
    "# Project on Image Analysis using Random Forest"
   ]
  },
  {
   "cell_type": "code",
   "execution_count": 1,
   "metadata": {},
   "outputs": [
    {
     "name": "stderr",
     "output_type": "stream",
     "text": [
      "C:\\Users\\abhis\\Anaconda3\\lib\\site-packages\\sklearn\\ensemble\\weight_boosting.py:29: DeprecationWarning: numpy.core.umath_tests is an internal NumPy module and should not be imported. It will be removed in a future NumPy release.\n",
      "  from numpy.core.umath_tests import inner1d\n"
     ]
    }
   ],
   "source": [
    "#Ignoring warnings about few features being depreciated\n",
    "import warnings\n",
    "warnings.filterwarnings(\"ignore\")\n",
    "\n",
    "#Import packages\n",
    "import numpy as np\n",
    "import pandas as pd\n",
    "\n",
    "%matplotlib inline\n",
    "import matplotlib.pyplot as plt\n",
    "\n",
    "from skimage.transform import resize\n",
    "from skimage.io import imread, imshow\n",
    "\n",
    "from sklearn.decomposition import PCA\n",
    "from sklearn.metrics import accuracy_score\n",
    "from sklearn.pipeline import make_pipeline\n",
    "from sklearn.model_selection import StratifiedKFold\n",
    "from sklearn.model_selection import cross_val_score\n",
    "from sklearn.model_selection import GridSearchCV\n",
    "from sklearn.metrics import classification_report\n",
    "from sklearn.ensemble import RandomForestClassifier\n",
    "from sklearn.model_selection import train_test_split\n",
    "from sklearn.metrics import mean_absolute_error, mean_squared_error"
   ]
  },
  {
   "cell_type": "code",
   "execution_count": 2,
   "metadata": {},
   "outputs": [
    {
     "data": {
      "text/plain": [
       "4"
      ]
     },
     "execution_count": 2,
     "metadata": {},
     "output_type": "execute_result"
    }
   ],
   "source": [
    "#Creating dataset from images\n",
    "#Dictionary for loading images\n",
    "\n",
    "fruit_img = {}\n",
    "\n",
    "for i in range(1,81):\n",
    "    fruit_img[\"fruit_off{}\".format(i)]=0\n",
    "\n",
    "#Load images and grayscale them\n",
    "\n",
    "for i in range(1,81):\n",
    "    fruit_img['fruit_off{}'.format(i)] = imread('./images/{}.png'.format(i), as_grey = True)\n",
    "    \n",
    "#Resize the images to 70x100\n",
    "\n",
    "fruit_res = {}\n",
    "\n",
    "for i in range(1,81):\n",
    "    fruit_res['fruit{}'.format(i)] = resize(fruit_img['fruit_off{}'.format(i)],(120,150))\n",
    "\n",
    "#Reshape the data into a 1-d array\n",
    "\n",
    "fruit_data = {}\n",
    "\n",
    "for i in range(1,81):\n",
    "    fruit_data['fruit1d_{}'.format(i)] = np.reshape(fruit_res['fruit{}'.format(i)], (120*150))\n",
    "\n",
    "#Stacking individual image data and images into a single multi-dimensional array\n",
    "\n",
    "fruit_d_stack = np.stack((fruit_data.values()), axis = 0)\n",
    "fruit_stack = np.stack((fruit_res.values()), axis = 0)\n",
    "target = np.array([0,0,0,0,0,0,0,0,0,0,0,0,0,0,0,0,0,0,0,0,1,1,1,1,1,1,1,1,1,1,1,1,1,1,1,1,1,1,1,1,\n",
    "                   2,2,2,2,2,2,2,2,2,2,2,2,2,2,2,2,2,2,2,2,3,3,3,3,3,3,3,3,3,3,3,3,3,3,3,3,3,3,3,3])\n",
    "target_names = np.array(['Banana','Pineapple','Kiwi','Apple'])\n",
    "\n",
    "#Image dataset with empty fields\n",
    "fruits = {'data':0, 'images':0, 'target':0, 'target_names':0}\n",
    "\n",
    "\n",
    "#Loading data and image arrays into image-dataset\n",
    "fruits['data'] = fruit_d_stack\n",
    "fruits['images'] = fruit_stack\n",
    "fruits['target'] = target\n",
    "fruits['target_names'] = target_names\n",
    "\n",
    "len(fruits)"
   ]
  },
  {
   "cell_type": "code",
   "execution_count": 3,
   "metadata": {},
   "outputs": [],
   "source": [
    "#Simple train test split\n",
    "Xtrain,Xtest, ytrain, ytest =train_test_split(fruits['data'], fruits['target'], stratify = fruits['target'],test_size=0.3,random_state=0)"
   ]
  },
  {
   "cell_type": "code",
   "execution_count": 4,
   "metadata": {},
   "outputs": [],
   "source": [
    "#Using Principle Component Analysis\n",
    "pca=PCA(svd_solver='randomized',n_components=15,whiten=True,random_state=0)"
   ]
  },
  {
   "cell_type": "code",
   "execution_count": 5,
   "metadata": {},
   "outputs": [],
   "source": [
    "#Using Random Forest Model with max_depth = 6\n",
    "rc=RandomForestClassifier(max_depth=6,random_state=0,n_estimators=4)\n",
    "model_rc=make_pipeline(pca,rc)\n",
    "#Fitting the model to train data\n",
    "model_rc.fit(Xtrain, ytrain);\n",
    "#Predicting on test set\n",
    "y_test_hat=model_rc.predict(Xtest)"
   ]
  },
  {
   "cell_type": "code",
   "execution_count": 7,
   "metadata": {},
   "outputs": [
    {
     "name": "stdout",
     "output_type": "stream",
     "text": [
      "Out-of-sample Accuracy:  41.66666666666667\n",
      "In-sample Accuracy:  96.42857142857143\n",
      "             precision    recall  f1-score   support\n",
      "\n",
      "     Banana       0.43      0.50      0.46         6\n",
      "  Pineapple       0.40      0.33      0.36         6\n",
      "       Kiwi       0.29      0.33      0.31         6\n",
      "      Apple       0.60      0.50      0.55         6\n",
      "\n",
      "avg / total       0.43      0.42      0.42        24\n",
      "\n"
     ]
    }
   ],
   "source": [
    "#Accuracy for out-sample and in-sample data\n",
    "acc_out=accuracy_score(ytest,y_test_hat)*100\n",
    "print(\"Out-of-sample Accuracy: \", acc_out)\n",
    "y_pred_train=model_rc.predict(Xtrain)\n",
    "acc_in= accuracy_score(ytrain,y_pred_train)*100\n",
    "print(\"In-sample Accuracy: \", acc_in)\n",
    "print(classification_report(ytest, y_test_hat, target_names=fruits['target_names']))"
   ]
  },
  {
   "cell_type": "code",
   "execution_count": 8,
   "metadata": {},
   "outputs": [],
   "source": [
    "#Plotting multiclass ROC\n",
    "from itertools import cycle\n",
    "from sklearn.metrics import roc_curve, auc\n",
    "from sklearn.preprocessing import label_binarize\n",
    "from sklearn.multiclass import OneVsRestClassifier\n",
    "from scipy import interp\n",
    "\n",
    "\n",
    "X = fruits['data']\n",
    "y = fruits['target']\n",
    "# Binarize the output\n",
    "y = label_binarize(y, classes=[0, 1, 2, 3])\n",
    "n_classes = y.shape[1]\n",
    "\n",
    "X_train, X_test, y_train, y_test = train_test_split(X, y, test_size=.3, stratify = y, random_state=0)\n",
    "\n",
    "#Using OneVsRest Classifier and getting probability for each class\n",
    "classifier = OneVsRestClassifier(model_rc)\n",
    "y_score = classifier.fit(X_train, y_train).predict_proba(X_test)\n",
    "\n",
    "# Compute ROC curve and ROC area for each class\n",
    "fpr = dict()\n",
    "tpr = dict()\n",
    "roc_auc = dict()\n",
    "\n",
    "#fpr[i], tpr[i], _ = roc_curve(y_test[:, 0], y_score[:, 0])\n",
    "for i in range(n_classes):\n",
    "    fpr[i], tpr[i], _ = roc_curve(y_test[:, i], y_score[:, i])\n",
    "    roc_auc[i] = auc(fpr[i], tpr[i])\n",
    "    \n",
    "fpr[\"micro\"], tpr[\"micro\"], _ = roc_curve(y_test.ravel(), y_score.ravel())\n",
    "roc_auc[\"micro\"] = auc(fpr[\"micro\"], tpr[\"micro\"])\n"
   ]
  },
  {
   "cell_type": "code",
   "execution_count": 9,
   "metadata": {},
   "outputs": [
    {
     "data": {
      "image/png": "[encoded data removed]",
      "text/plain": [
       "<Figure size 432x288 with 4 Axes>"
      ]
     },
     "metadata": {
      "needs_background": "light"
     },
     "output_type": "display_data"
    }
   ],
   "source": [
    "#Plotting ROC and printing AUC values\n",
    "plt.figure()\n",
    "\n",
    "#Plotting ROC for class 0\n",
    "plt.subplot(221)\n",
    "plt.plot(fpr[0], tpr[0], color='darkorange', label='AUC = %0.2f' % roc_auc[0])\n",
    "plt.xlim([0.0, 1.0])\n",
    "plt.ylim([0.0, 1.05])\n",
    "plt.xlabel('False Positive Rate')\n",
    "plt.ylabel('True Positive Rate')\n",
    "plt.title('ROC class = 0')\n",
    "plt.legend(loc=\"lower right\")\n",
    "\n",
    "#Plotting ROC for class 1\n",
    "plt.subplot(222)\n",
    "plt.plot(fpr[1], tpr[1], color='navy', label='AUC = %0.2f' % roc_auc[1])\n",
    "plt.xlim([0.0, 1.0])\n",
    "plt.ylim([0.0, 1.05])\n",
    "plt.xlabel('False Positive Rate')\n",
    "plt.ylabel('True Positive Rate')\n",
    "plt.title('ROC class = 1')\n",
    "plt.legend(loc=\"lower right\")\n",
    "\n",
    "#Plotting ROC for class 2\n",
    "plt.subplot(223)\n",
    "plt.plot(fpr[2], tpr[2], color='red', label='AUC = %0.2f' % roc_auc[2])\n",
    "plt.xlim([0.0, 1.0])\n",
    "plt.ylim([0.0, 1.05])\n",
    "plt.xlabel('False Positive Rate')\n",
    "plt.ylabel('True Positive Rate')\n",
    "plt.title('ROC class = 2')\n",
    "plt.legend(loc=\"lower right\")\n",
    "\n",
    "#Plotting ROC for class 3\n",
    "plt.subplot(224)\n",
    "plt.plot(fpr[3], tpr[3], color='green', label='AUC = %0.2f' % roc_auc[3])\n",
    "plt.xlim([0.0, 1.0])\n",
    "plt.ylim([0.0, 1.05])\n",
    "plt.xlabel('False Positive Rate')\n",
    "plt.ylabel('True Positive Rate')\n",
    "plt.title('ROC class = 3')\n",
    "plt.legend(loc=\"lower right\")\n",
    "\n",
    "plt.tight_layout()\n",
    "plt.show()"
   ]
  },
  {
   "cell_type": "code",
   "execution_count": null,
   "metadata": {},
   "outputs": [],
   "source": []
  },
  {
   "cell_type": "code",
   "execution_count": null,
   "metadata": {},
   "outputs": [],
   "source": []
  },
  {
   "cell_type": "code",
   "execution_count": 11,
   "metadata": {},
   "outputs": [
    {
     "name": "stdout",
     "output_type": "stream",
     "text": [
      "Cross Validation Scores for Random Forest: [0.375  0.5625 0.6875 0.3125 0.5   ]\n",
      "Mean Accuracy Score for Random Forest: 0.4875\n",
      "As we can see, the accuracy changed from 41.66666666666667 without Stratified CV to a mean accuracy of 0.4875 when using Stratified CV with a max accuracy of 0.6875\n"
     ]
    }
   ],
   "source": [
    "#Using Stratified K_Fold cross validation\n",
    "cv = StratifiedKFold(n_splits=5, random_state=0, shuffle=True)\n",
    "accuracy_rc = cross_val_score(model_rc, fruits['data'], fruits['target'], cv=cv, scoring='accuracy')\n",
    "\n",
    "print(\"Cross Validation Scores for Random Forest: {}\".format(accuracy_rc))\n",
    "print(\"Mean Accuracy Score for Random Forest: {}\".format(np.mean(accuracy_rc)))\n",
    "print(\"As we can see, the accuracy changed from {} without Stratified CV to a mean accuracy of {} when using Stratified CV with a max accuracy of {}\".format(acc_out,np.mean(accuracy_rc),max(accuracy_rc)))"
   ]
  },
  {
   "cell_type": "code",
   "execution_count": null,
   "metadata": {},
   "outputs": [],
   "source": []
  },
  {
   "cell_type": "code",
   "execution_count": 12,
   "metadata": {},
   "outputs": [
    {
     "name": "stdout",
     "output_type": "stream",
     "text": [
      "{'pca__n_components': 15, 'randomforestclassifier__max_depth': 9, 'randomforestclassifier__n_estimators': 9}\n"
     ]
    }
   ],
   "source": [
    "#Grid Search with Cross Validation:\n",
    "param_grid_rc = {'randomforestclassifier__max_depth': [5,6,7,9],'randomforestclassifier__n_estimators': [4,5,7,9],'pca__n_components': [7,12,15,20] }\n",
    "grid = GridSearchCV(model_rc, param_grid_rc, cv = 5, scoring='accuracy')\n",
    "grid.fit(Xtrain, ytrain)\n",
    "print(grid.best_params_)"
   ]
  },
  {
   "cell_type": "code",
   "execution_count": 13,
   "metadata": {},
   "outputs": [],
   "source": [
    "#Applying best model on data\n",
    "bestModel = grid.best_estimator_\n",
    "y_train_hat = bestModel.predict(Xtrain)\n",
    "y_test_hat = bestModel.predict(Xtest)"
   ]
  },
  {
   "cell_type": "code",
   "execution_count": 14,
   "metadata": {},
   "outputs": [
    {
     "name": "stdout",
     "output_type": "stream",
     "text": [
      "In-sample Accuracy:  98.21428571428571\n",
      "Out-of-sample Accuracy:  45.83333333333333\n",
      "             precision    recall  f1-score   support\n",
      "\n",
      "     Banana       0.38      0.50      0.43         6\n",
      "  Pineapple       0.60      0.50      0.55         6\n",
      "       Kiwi       0.40      0.33      0.36         6\n",
      "      Apple       0.50      0.50      0.50         6\n",
      "\n",
      "avg / total       0.47      0.46      0.46        24\n",
      "\n"
     ]
    }
   ],
   "source": [
    "#Checking the accuracy\n",
    "in_sample_acc = accuracy_score(ytrain,y_train_hat, normalize = True) * 100\n",
    "out_of_sample_acc = accuracy_score(ytest,y_test_hat, normalize = True) * 100\n",
    "print(\"In-sample Accuracy: \", in_sample_acc)\n",
    "print(\"Out-of-sample Accuracy: \", out_of_sample_acc)\n",
    "\n",
    "print(classification_report(ytest, y_test_hat, target_names=fruits['target_names']))"
   ]
  },
  {
   "cell_type": "code",
   "execution_count": 15,
   "metadata": {},
   "outputs": [],
   "source": [
    "#Plotting multiclass ROC with best parameters\n",
    "from itertools import cycle\n",
    "from sklearn.metrics import roc_curve, auc\n",
    "from sklearn.preprocessing import label_binarize\n",
    "from sklearn.multiclass import OneVsRestClassifier\n",
    "from scipy import interp\n",
    "\n",
    "\n",
    "X = fruits['data']\n",
    "y = fruits['target']\n",
    "# Binarize the output\n",
    "y = label_binarize(y, classes=[0, 1, 2, 3])\n",
    "n_classes = y.shape[1]\n",
    "\n",
    "X_train, X_test, y_train, y_test = train_test_split(X, y, test_size=.3, stratify = y, random_state=0)\n",
    "pca=PCA(svd_solver='randomized',n_components=15,whiten=True,random_state=0)\n",
    "rc=RandomForestClassifier(max_depth=9,random_state=0,n_estimators=9)\n",
    "model_rc_roc =make_pipeline(pca,rc)\n",
    "\n",
    "#Using OneVsRest Classifier and getting probability for each class\n",
    "classifier = OneVsRestClassifier(model_rc_roc)\n",
    "y_score = classifier.fit(X_train, y_train).predict_proba(X_test)\n",
    "\n",
    "# Compute ROC curve and ROC area for each class\n",
    "fpr = dict()\n",
    "tpr = dict()\n",
    "roc_auc = dict()\n",
    "\n",
    "#fpr[i], tpr[i], _ = roc_curve(y_test[:, 0], y_score[:, 0])\n",
    "for i in range(n_classes):\n",
    "    fpr[i], tpr[i], _ = roc_curve(y_test[:, i], y_score[:, i])\n",
    "    roc_auc[i] = auc(fpr[i], tpr[i])\n",
    "    \n",
    "fpr[\"micro\"], tpr[\"micro\"], _ = roc_curve(y_test.ravel(), y_score.ravel())\n",
    "roc_auc[\"micro\"] = auc(fpr[\"micro\"], tpr[\"micro\"])\n"
   ]
  },
  {
   "cell_type": "code",
   "execution_count": 16,
   "metadata": {},
   "outputs": [
    {
     "data": {
      "image/png": "[encoded data removed]",
      "text/plain": [
       "<Figure size 432x288 with 4 Axes>"
      ]
     },
     "metadata": {
      "needs_background": "light"
     },
     "output_type": "display_data"
    }
   ],
   "source": [
    "#Plotting ROC and printing AUC values\n",
    "plt.figure()\n",
    "\n",
    "#Plotting ROC for class 0\n",
    "plt.subplot(221)\n",
    "plt.plot(fpr[0], tpr[0], color='darkorange', label='AUC = %0.2f' % roc_auc[0])\n",
    "plt.xlim([0.0, 1.0])\n",
    "plt.ylim([0.0, 1.05])\n",
    "plt.xlabel('False Positive Rate')\n",
    "plt.ylabel('True Positive Rate')\n",
    "plt.title('ROC class = 0')\n",
    "plt.legend(loc=\"lower right\")\n",
    "\n",
    "#Plotting ROC for class 1\n",
    "plt.subplot(222)\n",
    "plt.plot(fpr[1], tpr[1], color='navy', label='AUC = %0.2f' % roc_auc[1])\n",
    "plt.xlim([0.0, 1.0])\n",
    "plt.ylim([0.0, 1.05])\n",
    "plt.xlabel('False Positive Rate')\n",
    "plt.ylabel('True Positive Rate')\n",
    "plt.title('ROC class = 1')\n",
    "plt.legend(loc=\"lower right\")\n",
    "\n",
    "#Plotting ROC for class 2\n",
    "plt.subplot(223)\n",
    "plt.plot(fpr[2], tpr[2], color='red', label='AUC = %0.2f' % roc_auc[2])\n",
    "plt.xlim([0.0, 1.0])\n",
    "plt.ylim([0.0, 1.05])\n",
    "plt.xlabel('False Positive Rate')\n",
    "plt.ylabel('True Positive Rate')\n",
    "plt.title('ROC class = 2')\n",
    "plt.legend(loc=\"lower right\")\n",
    "\n",
    "#Plotting ROC for class 3\n",
    "plt.subplot(224)\n",
    "plt.plot(fpr[3], tpr[3], color='green', label='AUC = %0.2f' % roc_auc[3])\n",
    "plt.xlim([0.0, 1.0])\n",
    "plt.ylim([0.0, 1.05])\n",
    "plt.xlabel('False Positive Rate')\n",
    "plt.ylabel('True Positive Rate')\n",
    "plt.title('ROC class = 3')\n",
    "plt.legend(loc=\"lower right\")\n",
    "\n",
    "plt.tight_layout()\n",
    "plt.show()"
   ]
  },
  {
   "cell_type": "code",
   "execution_count": null,
   "metadata": {},
   "outputs": [],
   "source": []
  },
  {
   "cell_type": "code",
   "execution_count": null,
   "metadata": {},
   "outputs": [],
   "source": []
  },
  {
   "cell_type": "code",
   "execution_count": null,
   "metadata": {},
   "outputs": [],
   "source": []
  }
 ],
 "metadata": {
  "kernelspec": {
   "display_name": "Python 3",
   "language": "python",
   "name": "python3"
  },
  "language_info": {
   "codemirror_mode": {
    "name": "ipython",
    "version": 3
   },
   "file_extension": ".py",
   "mimetype": "text/x-python",
   "name": "python",
   "nbconvert_exporter": "python",
   "pygments_lexer": "ipython3",
   "version": "3.7.4"
  }
 },
 "nbformat": 4,
 "nbformat_minor": 2
}
